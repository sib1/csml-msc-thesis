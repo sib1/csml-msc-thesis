{
  "nbformat": 4,
  "nbformat_minor": 0,
  "metadata": {
    "colab": {
      "name": "TFIDF_NB.ipynb",
      "version": "0.3.2",
      "provenance": [],
      "collapsed_sections": []
    },
    "kernelspec": {
      "name": "python3",
      "display_name": "Python 3"
    }
  },
  "cells": [
    {
      "cell_type": "code",
      "metadata": {
        "id": "qnWAqKPyPNd7",
        "colab_type": "code",
        "outputId": "bc651b7f-4e90-4cec-d23f-daf2211a1dbc",
        "colab": {
          "base_uri": "https://localhost:8080/",
          "height": 1000
        }
      },
      "source": [
        "#Get Data from Dropbox\n",
        "!git clone https://github.com/thatbrguy/Dropbox-Uploader.git\n",
        "%cd Dropbox-Uploader\n",
        "!chmod +x dropbox_uploader.sh\n",
        "!bash dropbox_uploader.sh\n",
        "!echo \"CHTZbyeOjyYAAAAAAAAAfZTfC_d3kTmHXSqg7-941o9Nolj-FEAJbjyUKutEtCSu\" > token.txt\n",
        "!bash dropbox_uploader.sh\n",
        "\n",
        "!bash dropbox_uploader.sh download cola.zip\n",
        "!unzip cola.zip\n",
        "!rm cola.zip\n",
        "\n"
      ],
      "execution_count": 0,
      "outputs": [
        {
          "output_type": "stream",
          "text": [
            "Cloning into 'Dropbox-Uploader'...\n",
            "remote: Enumerating objects: 951, done.\u001b[K\n",
            "remote: Total 951 (delta 0), reused 0 (delta 0), pack-reused 951\u001b[K\n",
            "Receiving objects: 100% (951/951), 309.19 KiB | 7.73 MiB/s, done.\n",
            "Resolving deltas: 100% (505/505), done.\n",
            "/content/Dropbox-Uploader\n",
            "\n",
            " This is the first time you run this script, please follow the instructions:\n",
            "\n",
            " 1) Open the following URL in your Browser, and log in using your account: https://www.dropbox.com/developers/apps\n",
            " 2) Click on \"Create App\", then select \"Dropbox API app\"\n",
            " 3) Now go on with the configuration, choosing the app permissions and access restrictions to your DropBox folder\n",
            " 4) Enter the \"App Name\" that you prefer (e.g. MyUploader17239344619851)\n",
            "\n",
            " Now, click on the \"Create App\" button.\n",
            "\n",
            " When your new App is successfully created, please click on the Generate button\n",
            " under the 'Generated access token' section, then execute the following command:\n",
            "\n",
            " echo \"INPUT_YOUR_ACCESS_TOKEN_HERE\" > token.txt\n",
            "\n",
            "\n",
            " This is the first time you run this script, please follow the instructions:\n",
            "\n",
            " 1) Open the following URL in your Browser, and log in using your account: https://www.dropbox.com/developers/apps\n",
            " 2) Click on \"Create App\", then select \"Dropbox API app\"\n",
            " 3) Now go on with the configuration, choosing the app permissions and access restrictions to your DropBox folder\n",
            " 4) Enter the \"App Name\" that you prefer (e.g. MyUploader91891092524169)\n",
            "\n",
            " Now, click on the \"Create App\" button.\n",
            "\n",
            " When your new App is successfully created, please click on the Generate button\n",
            " under the 'Generated access token' section, then execute the following command:\n",
            "\n",
            " echo \"INPUT_YOUR_ACCESS_TOKEN_HERE\" > token.txt\n",
            "\n",
            "\n",
            " Found token.txt with access token: CHTZbyeOjyYAAAAAAAAAfZTfC_d3kTmHXSqg7-941o9Nolj-FEAJbjyUKutEtCSu\n",
            "\n",
            " You can unlink this account if the token is wrong, using:\n",
            " ./dropbox-uploader.sh unlink\n",
            "\n",
            " The configuration has been saved.\n",
            " > No such file or directory: /cola.zip\n",
            "Some error occured. Please check the log.\n",
            "unzip:  cannot find or open cola.zip, cola.zip.zip or cola.zip.ZIP.\n",
            "rm: cannot remove 'cola.zip': No such file or directory\n",
            "Collecting pytorch-nlp\n",
            "\u001b[?25l  Downloading https://files.pythonhosted.org/packages/df/ae/b6d18c3f37da5a78e83701469e6153811f4b0ecb3f9387bb3e9a65ca48ee/pytorch_nlp-0.4.1-py3-none-any.whl (82kB)\n",
            "\u001b[K     |████████████████████████████████| 92kB 3.4MB/s \n",
            "\u001b[?25hRequirement already satisfied: requests in /usr/local/lib/python3.6/dist-packages (from pytorch-nlp) (2.21.0)\n",
            "Requirement already satisfied: numpy in /usr/local/lib/python3.6/dist-packages (from pytorch-nlp) (1.16.4)\n",
            "Requirement already satisfied: pandas in /usr/local/lib/python3.6/dist-packages (from pytorch-nlp) (0.24.2)\n",
            "Requirement already satisfied: tqdm in /usr/local/lib/python3.6/dist-packages (from pytorch-nlp) (4.28.1)\n",
            "Requirement already satisfied: urllib3<1.25,>=1.21.1 in /usr/local/lib/python3.6/dist-packages (from requests->pytorch-nlp) (1.24.3)\n",
            "Requirement already satisfied: chardet<3.1.0,>=3.0.2 in /usr/local/lib/python3.6/dist-packages (from requests->pytorch-nlp) (3.0.4)\n",
            "Requirement already satisfied: certifi>=2017.4.17 in /usr/local/lib/python3.6/dist-packages (from requests->pytorch-nlp) (2019.6.16)\n",
            "Requirement already satisfied: idna<2.9,>=2.5 in /usr/local/lib/python3.6/dist-packages (from requests->pytorch-nlp) (2.8)\n",
            "Requirement already satisfied: python-dateutil>=2.5.0 in /usr/local/lib/python3.6/dist-packages (from pandas->pytorch-nlp) (2.5.3)\n",
            "Requirement already satisfied: pytz>=2011k in /usr/local/lib/python3.6/dist-packages (from pandas->pytorch-nlp) (2018.9)\n",
            "Requirement already satisfied: six>=1.5 in /usr/local/lib/python3.6/dist-packages (from python-dateutil>=2.5.0->pandas->pytorch-nlp) (1.12.0)\n",
            "Installing collected packages: pytorch-nlp\n",
            "Successfully installed pytorch-nlp-0.4.1\n"
          ],
          "name": "stdout"
        }
      ]
    },
    {
      "cell_type": "code",
      "metadata": {
        "id": "mGW9suXtPgZz",
        "colab_type": "code",
        "colab": {
          "base_uri": "https://localhost:8080/",
          "height": 309
        },
        "outputId": "3b029b15-c828-4b06-dc5c-134e91b2bb50"
      },
      "source": [
        "!pip install pytorch-nlp\n",
        "import numpy as np # linear algebra\n",
        "import pandas as pd # data processing, CSV file I/O (e.g. pd.read_csv)\n",
        "from sklearn.feature_extraction.text import CountVectorizer\n",
        "from sklearn.feature_extraction.text import TfidfTransformer\n",
        "from sklearn.naive_bayes import MultinomialNB\n",
        "from sklearn.feature_extraction.text import TfidfVectorizer\n",
        "import matplotlib.pyplot as plt\n",
        "from sklearn.naive_bayes import MultinomialNB\n",
        "from sklearn.pipeline import Pipeline\n",
        "from sklearn.feature_extraction.text import TfidfTransformer\n",
        "from sklearn.metrics import accuracy_score, confusion_matrix\n",
        "\n",
        "from torchnlp.datasets import smt_dataset\n",
        "from torchnlp.datasets import imdb_dataset\n",
        "\n"
      ],
      "execution_count": 2,
      "outputs": [
        {
          "output_type": "stream",
          "text": [
            "Collecting pytorch-nlp\n",
            "\u001b[?25l  Downloading https://files.pythonhosted.org/packages/df/ae/b6d18c3f37da5a78e83701469e6153811f4b0ecb3f9387bb3e9a65ca48ee/pytorch_nlp-0.4.1-py3-none-any.whl (82kB)\n",
            "\u001b[K     |████████████████████████████████| 92kB 5.6MB/s \n",
            "\u001b[?25hRequirement already satisfied: pandas in /usr/local/lib/python3.6/dist-packages (from pytorch-nlp) (0.24.2)\n",
            "Requirement already satisfied: tqdm in /usr/local/lib/python3.6/dist-packages (from pytorch-nlp) (4.28.1)\n",
            "Requirement already satisfied: numpy in /usr/local/lib/python3.6/dist-packages (from pytorch-nlp) (1.16.4)\n",
            "Requirement already satisfied: requests in /usr/local/lib/python3.6/dist-packages (from pytorch-nlp) (2.21.0)\n",
            "Requirement already satisfied: python-dateutil>=2.5.0 in /usr/local/lib/python3.6/dist-packages (from pandas->pytorch-nlp) (2.5.3)\n",
            "Requirement already satisfied: pytz>=2011k in /usr/local/lib/python3.6/dist-packages (from pandas->pytorch-nlp) (2018.9)\n",
            "Requirement already satisfied: certifi>=2017.4.17 in /usr/local/lib/python3.6/dist-packages (from requests->pytorch-nlp) (2019.6.16)\n",
            "Requirement already satisfied: chardet<3.1.0,>=3.0.2 in /usr/local/lib/python3.6/dist-packages (from requests->pytorch-nlp) (3.0.4)\n",
            "Requirement already satisfied: idna<2.9,>=2.5 in /usr/local/lib/python3.6/dist-packages (from requests->pytorch-nlp) (2.8)\n",
            "Requirement already satisfied: urllib3<1.25,>=1.21.1 in /usr/local/lib/python3.6/dist-packages (from requests->pytorch-nlp) (1.24.3)\n",
            "Requirement already satisfied: six>=1.5 in /usr/local/lib/python3.6/dist-packages (from python-dateutil>=2.5.0->pandas->pytorch-nlp) (1.12.0)\n",
            "Installing collected packages: pytorch-nlp\n",
            "Successfully installed pytorch-nlp-0.4.1\n"
          ],
          "name": "stdout"
        }
      ]
    },
    {
      "cell_type": "code",
      "metadata": {
        "id": "he7DqYwxnS9m",
        "colab_type": "code",
        "colab": {}
      },
      "source": [
        "def restrict_data_func(X_train, Y_train, num_each_label, num_labels):\n",
        "  \n",
        "\n",
        "  X_train_labelled = []\n",
        "  Y_train_labelled = []\n",
        "\n",
        "  for i in range(num_labels):\n",
        "      X_train_labelled.append(X_train[Y_train == i][:num_each_label])\n",
        "      Y_train_labelled.append(Y_train[Y_train == i][:num_each_label])\n",
        "  X_train_labelled = np.concatenate(X_train_labelled, axis=0)\n",
        "  Y_train_labelled = np.concatenate(Y_train_labelled, axis=0)\n",
        "\n",
        "  return X_train_labelled, Y_train_labelled"
      ],
      "execution_count": 0,
      "outputs": []
    },
    {
      "cell_type": "code",
      "metadata": {
        "id": "cCuBdhcTM1eu",
        "colab_type": "code",
        "colab": {}
      },
      "source": [
        "#FUNCTION TO CREATE LABELS FOR SMT\n",
        "def create_SMT_labels(data,num_train):\n",
        "  labels_tensor = np.zeros(num_train)\n",
        "  labels = data.__getitem__('label')\n",
        "  labels = labels[0:num_train]\n",
        "  \n",
        "  very_pos_indices = [i for i, x in enumerate(labels) if x == \"very positive\"]\n",
        "  pos_indices = [i for i, x in enumerate(labels) if x == \"positive\"]\n",
        "  neut_indices = [i for i, x in enumerate(labels) if x == \"neutral\"]\n",
        "  neg_indices = [i for i, x in enumerate(labels) if x == \"negative\"]\n",
        "  very_neg_indices = [i for i, x in enumerate(labels) if x == \"very negative\"]\n",
        "\n",
        "  labels_tensor[very_pos_indices] = 0\n",
        "  labels_tensor[pos_indices] = 1\n",
        "  labels_tensor[neut_indices] = 2\n",
        "  labels_tensor[neg_indices] = 3\n",
        "  labels_tensor[very_neg_indices] = 4\n",
        "  \n",
        "  return labels_tensor\n",
        "\n",
        "#FUNCTION TO CREATE LABELS FOR IMDB\n",
        "def create_IMDB_labels(data,num_train):\n",
        "  labels_tensor = np.zeros(num_train)\n",
        "  labels = data.__getitem__('sentiment')\n",
        "  labels = labels[0:num_train]\n",
        "\n",
        "  pos_indices = [i for i, x in enumerate(labels) if x == \"pos\"]\n",
        "  neg_indices = [i for i, x in enumerate(labels) if x == \"neg\"]\n",
        "\n",
        "  labels_tensor[pos_indices] = int(1)\n",
        "  labels_tensor[neg_indices] = int(0)\n",
        "  \n",
        "  return labels_tensor"
      ],
      "execution_count": 0,
      "outputs": []
    },
    {
      "cell_type": "code",
      "metadata": {
        "id": "XNsjF6a-fw77",
        "colab_type": "code",
        "outputId": "cc20d71e-97b5-492e-a1fe-5ff1f3c10bb1",
        "colab": {
          "base_uri": "https://localhost:8080/",
          "height": 71
        }
      },
      "source": [
        "#Load preprocessed Data\n",
        "\n",
        "\"\"\"\n",
        "train_labels = np.load('cola/cola_train_labels.npy')\n",
        "train_text = np.load('cola/cola_train_text.npy')\n",
        "valid_labels = np.load('cola/cola_in_domain_dev_labels.npy')\n",
        "valid_text = np.load('cola/cola_in_domain_dev_text.npy')\n",
        "test_labels = np.load('cola/cola_out_domain_dev_labels.npy')\n",
        "test_text = np.load('cola/cola_out_domain_dev_text.npy')\n",
        "\n",
        "\"\"\"\n",
        "\n",
        "train = imdb_dataset(train=True)\n",
        "test = imdb_dataset(test=True)\n",
        "train_labels = create_IMDB_labels(train,25000)\n",
        "train_text = np.array(train.__getitem__('text'))\n",
        "test_labels = create_IMDB_labels(test,25000)\n",
        "test_text = np.array(test.__getitem__('text'))\n",
        "\n",
        "\n",
        "\"\"\"\n",
        "\n",
        "\n",
        "train = smt_dataset(train=True, fine_grained=True)\n",
        "valid = smt_dataset(dev=True, fine_grained=True)\n",
        "test = smt_dataset(test=True, fine_grained=True)\n",
        "\n",
        "num_train = len(train)\n",
        "num_valid = len(valid)\n",
        "num_test = len(test)\n",
        "\n",
        "\n",
        "train_labels = create_SMT_labels(train,num_train)\n",
        "train_text = np.array(train.__getitem__('text'))\n",
        "test_labels = create_SMT_labels(test,num_test)\n",
        "test_text = np.array(test.__getitem__('text'))\n",
        "valid_labels = create_SMT_labels(valid,num_valid)\n",
        "valid_text = np.array(valid.__getitem__('text'))\n",
        "\n",
        "\"\"\""
      ],
      "execution_count": 5,
      "outputs": [
        {
          "output_type": "stream",
          "text": [
            "aclImdb_v1.tar.gz: 84.1MB [00:01, 45.0MB/s]                            \n"
          ],
          "name": "stderr"
        },
        {
          "output_type": "execute_result",
          "data": {
            "text/plain": [
              "\"\\n\\n\\ntrain = smt_dataset(train=True, fine_grained=True)\\nvalid = smt_dataset(dev=True, fine_grained=True)\\ntest = smt_dataset(test=True, fine_grained=True)\\n\\nnum_train = len(train)\\nnum_valid = len(valid)\\nnum_test = len(test)\\n\\n\\ntrain_labels = create_SMT_labels(train,num_train)\\ntrain_text = np.array(train.__getitem__('text'))\\ntest_labels = create_SMT_labels(test,num_test)\\ntest_text = np.array(test.__getitem__('text'))\\nvalid_labels = create_SMT_labels(valid,num_valid)\\nvalid_text = np.array(valid.__getitem__('text'))\\n\\n\""
            ]
          },
          "metadata": {
            "tags": []
          },
          "execution_count": 5
        }
      ]
    },
    {
      "cell_type": "code",
      "metadata": {
        "id": "9UyDbT2Tojez",
        "colab_type": "code",
        "outputId": "4cdefde6-1e74-4c4b-d1e8-a6b2904e4c7d",
        "colab": {
          "base_uri": "https://localhost:8080/",
          "height": 51
        }
      },
      "source": [
        "#DECIDE HOW MANY OF EACH CLASS TO USE IN TRAINING DATA\n",
        "restrict_training_data = 0 #Set equal to 0 or 1 \n",
        "num_each_label=100\n",
        "num_labels = 2\n",
        "\n",
        "\n",
        "#Shuffle Data\n",
        "random_seed = 1\n",
        "rand_state_1 = np.random.RandomState(random_seed)\n",
        "shuffle_1 = rand_state_1.permutation(train_text.shape[0])\n",
        "train_text = train_text[shuffle_1]\n",
        "train_labels = train_labels[shuffle_1]\n",
        "\n",
        "\n",
        "\n",
        "if restrict_training_data:\n",
        "  train_text, train_labels = restrict_data_func(train_text, train_labels, num_each_label,num_labels)\n",
        "\n",
        "\n",
        "\n",
        "print(len(train_text))\n",
        "print(len(train_labels))\n"
      ],
      "execution_count": 6,
      "outputs": [
        {
          "output_type": "stream",
          "text": [
            "25000\n",
            "25000\n"
          ],
          "name": "stdout"
        }
      ]
    },
    {
      "cell_type": "code",
      "metadata": {
        "id": "o_2KbvpVf26E",
        "colab_type": "code",
        "outputId": "0c730c45-7b0a-4ab6-a265-38e56f20ec0e",
        "colab": {
          "base_uri": "https://localhost:8080/",
          "height": 34
        }
      },
      "source": [
        "\n",
        "  \n",
        "nb = Pipeline([('vect', CountVectorizer(ngram_range=(1,2))),\n",
        "               ('tfidf', TfidfTransformer(sublinear_tf=True)),\n",
        "               ('clf', MultinomialNB(alpha=1)),\n",
        "              ])\n",
        "\n",
        "nb.fit(train_text, train_labels)\n",
        "\n",
        "y_pred = nb.predict(test_text)\n",
        "\n",
        "\n",
        "print('accuracy %s' % accuracy_score(y_pred, test_labels))\n",
        "\n",
        "\n"
      ],
      "execution_count": 9,
      "outputs": [
        {
          "output_type": "stream",
          "text": [
            "accuracy 0.87332\n"
          ],
          "name": "stdout"
        }
      ]
    },
    {
      "cell_type": "code",
      "metadata": {
        "id": "mOhHQWLuhLBb",
        "colab_type": "code",
        "outputId": "acd4f305-9c2d-4d3c-9284-9c3c26dc5a08",
        "colab": {
          "base_uri": "https://localhost:8080/",
          "height": 34
        }
      },
      "source": [
        "y_pred = nb.predict(test_text)\n",
        "\n",
        "print('accuracy %s' % accuracy_score(y_pred, test_labels))\n"
      ],
      "execution_count": 10,
      "outputs": [
        {
          "output_type": "stream",
          "text": [
            "accuracy 0.87332\n"
          ],
          "name": "stdout"
        }
      ]
    },
    {
      "cell_type": "code",
      "metadata": {
        "id": "arPKeiOKhRjp",
        "colab_type": "code",
        "colab": {}
      },
      "source": [
        "#y_pred = nb.predict(valid_text)\n",
        "#print('accuracy %s' % accuracy_score(y_pred, valid_labels))"
      ],
      "execution_count": 0,
      "outputs": []
    },
    {
      "cell_type": "code",
      "metadata": {
        "id": "JrhvwG7xlfP9",
        "colab_type": "code",
        "colab": {}
      },
      "source": [
        ""
      ],
      "execution_count": 0,
      "outputs": []
    },
    {
      "cell_type": "code",
      "metadata": {
        "id": "LGSZ6a_MPy2x",
        "colab_type": "code",
        "colab": {}
      },
      "source": [
        "\n"
      ],
      "execution_count": 0,
      "outputs": []
    },
    {
      "cell_type": "code",
      "metadata": {
        "id": "vkrNVeRzjI5y",
        "colab_type": "code",
        "colab": {}
      },
      "source": [
        ""
      ],
      "execution_count": 0,
      "outputs": []
    },
    {
      "cell_type": "code",
      "metadata": {
        "id": "zFssO6KOjk44",
        "colab_type": "code",
        "colab": {}
      },
      "source": [
        ""
      ],
      "execution_count": 0,
      "outputs": []
    },
    {
      "cell_type": "code",
      "metadata": {
        "id": "nX9uxqp4jsNr",
        "colab_type": "code",
        "colab": {}
      },
      "source": [
        ""
      ],
      "execution_count": 0,
      "outputs": []
    },
    {
      "cell_type": "code",
      "metadata": {
        "id": "pBDTyB1ikPz_",
        "colab_type": "code",
        "colab": {}
      },
      "source": [
        ""
      ],
      "execution_count": 0,
      "outputs": []
    },
    {
      "cell_type": "code",
      "metadata": {
        "id": "jXRQIr1OkWBs",
        "colab_type": "code",
        "colab": {}
      },
      "source": [
        ""
      ],
      "execution_count": 0,
      "outputs": []
    },
    {
      "cell_type": "code",
      "metadata": {
        "id": "eNa40haDk42G",
        "colab_type": "code",
        "colab": {}
      },
      "source": [
        ""
      ],
      "execution_count": 0,
      "outputs": []
    }
  ]
}